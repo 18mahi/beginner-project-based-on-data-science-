{
 "cells": [
  {
   "cell_type": "markdown",
   "id": "d2c2600f-014d-4201-b01a-bd43e83e7619",
   "metadata": {},
   "source": [
    "# 🚢 Titanic Survival Prediction\n",
    "-This notebook builds an ensemble model (Logistic Regression + Random Forest + XGBoost) to predict Titanic passenger survival.  \n",
    "-We also analyze **feature importance** to understand which factors mattered most.\n"
   ]
  },
  {
   "cell_type": "markdown",
   "id": "0a1ac4d2-b1fc-4f0e-b477-d66adb1f42bf",
   "metadata": {},
   "source": [
    "# 1. Import Libraries"
   ]
  },
  {
   "cell_type": "code",
   "execution_count": null,
   "id": "274abc37-3934-4523-ba7b-a9aa80953625",
   "metadata": {},
   "outputs": [],
   "source": [
    "\n",
    "import pandas as pd\n",
    "import numpy as np\n",
    "import seaborn as sns\n",
    "import matplotlib.pyplot as plt\n",
    "\n",
    "from sklearn.model_selection import train_test_split\n",
    "from sklearn.preprocessing import LabelEncoder\n",
    "from sklearn.metrics import accuracy_score\n",
    "from sklearn.ensemble import RandomForestClassifier, VotingClassifier\n",
    "from sklearn.linear_model import LogisticRegression\n",
    "from xgboost import XGBClassifier\n"
   ]
  },
  {
   "cell_type": "markdown",
   "id": "6c924652-9f62-413f-b7d5-b52cecce9196",
   "metadata": {},
   "source": [
    "# 2. Load Data\n",
    "-We use the Kaggle Titanic dataset."
   ]
  },
  {
   "cell_type": "code",
   "execution_count": 5,
   "id": "3b4390d3-41e4-4d1a-97fd-6d68386ef0d7",
   "metadata": {},
   "outputs": [
    {
     "data": {
      "text/html": [
       "<div>\n",
       "<style scoped>\n",
       "    .dataframe tbody tr th:only-of-type {\n",
       "        vertical-align: middle;\n",
       "    }\n",
       "\n",
       "    .dataframe tbody tr th {\n",
       "        vertical-align: top;\n",
       "    }\n",
       "\n",
       "    .dataframe thead th {\n",
       "        text-align: right;\n",
       "    }\n",
       "</style>\n",
       "<table border=\"1\" class=\"dataframe\">\n",
       "  <thead>\n",
       "    <tr style=\"text-align: right;\">\n",
       "      <th></th>\n",
       "      <th>PassengerId</th>\n",
       "      <th>Survived</th>\n",
       "      <th>Pclass</th>\n",
       "      <th>Name</th>\n",
       "      <th>Sex</th>\n",
       "      <th>Age</th>\n",
       "      <th>SibSp</th>\n",
       "      <th>Parch</th>\n",
       "      <th>Ticket</th>\n",
       "      <th>Fare</th>\n",
       "      <th>Cabin</th>\n",
       "      <th>Embarked</th>\n",
       "    </tr>\n",
       "  </thead>\n",
       "  <tbody>\n",
       "    <tr>\n",
       "      <th>0</th>\n",
       "      <td>1</td>\n",
       "      <td>0</td>\n",
       "      <td>3</td>\n",
       "      <td>Braund, Mr. Owen Harris</td>\n",
       "      <td>male</td>\n",
       "      <td>22.0</td>\n",
       "      <td>1</td>\n",
       "      <td>0</td>\n",
       "      <td>A/5 21171</td>\n",
       "      <td>7.2500</td>\n",
       "      <td>NaN</td>\n",
       "      <td>S</td>\n",
       "    </tr>\n",
       "    <tr>\n",
       "      <th>1</th>\n",
       "      <td>2</td>\n",
       "      <td>1</td>\n",
       "      <td>1</td>\n",
       "      <td>Cumings, Mrs. John Bradley (Florence Briggs Th...</td>\n",
       "      <td>female</td>\n",
       "      <td>38.0</td>\n",
       "      <td>1</td>\n",
       "      <td>0</td>\n",
       "      <td>PC 17599</td>\n",
       "      <td>71.2833</td>\n",
       "      <td>C85</td>\n",
       "      <td>C</td>\n",
       "    </tr>\n",
       "    <tr>\n",
       "      <th>2</th>\n",
       "      <td>3</td>\n",
       "      <td>1</td>\n",
       "      <td>3</td>\n",
       "      <td>Heikkinen, Miss. Laina</td>\n",
       "      <td>female</td>\n",
       "      <td>26.0</td>\n",
       "      <td>0</td>\n",
       "      <td>0</td>\n",
       "      <td>STON/O2. 3101282</td>\n",
       "      <td>7.9250</td>\n",
       "      <td>NaN</td>\n",
       "      <td>S</td>\n",
       "    </tr>\n",
       "    <tr>\n",
       "      <th>3</th>\n",
       "      <td>4</td>\n",
       "      <td>1</td>\n",
       "      <td>1</td>\n",
       "      <td>Futrelle, Mrs. Jacques Heath (Lily May Peel)</td>\n",
       "      <td>female</td>\n",
       "      <td>35.0</td>\n",
       "      <td>1</td>\n",
       "      <td>0</td>\n",
       "      <td>113803</td>\n",
       "      <td>53.1000</td>\n",
       "      <td>C123</td>\n",
       "      <td>S</td>\n",
       "    </tr>\n",
       "    <tr>\n",
       "      <th>4</th>\n",
       "      <td>5</td>\n",
       "      <td>0</td>\n",
       "      <td>3</td>\n",
       "      <td>Allen, Mr. William Henry</td>\n",
       "      <td>male</td>\n",
       "      <td>35.0</td>\n",
       "      <td>0</td>\n",
       "      <td>0</td>\n",
       "      <td>373450</td>\n",
       "      <td>8.0500</td>\n",
       "      <td>NaN</td>\n",
       "      <td>S</td>\n",
       "    </tr>\n",
       "  </tbody>\n",
       "</table>\n",
       "</div>"
      ],
      "text/plain": [
       "   PassengerId  Survived  Pclass  \\\n",
       "0            1         0       3   \n",
       "1            2         1       1   \n",
       "2            3         1       3   \n",
       "3            4         1       1   \n",
       "4            5         0       3   \n",
       "\n",
       "                                                Name     Sex   Age  SibSp  \\\n",
       "0                            Braund, Mr. Owen Harris    male  22.0      1   \n",
       "1  Cumings, Mrs. John Bradley (Florence Briggs Th...  female  38.0      1   \n",
       "2                             Heikkinen, Miss. Laina  female  26.0      0   \n",
       "3       Futrelle, Mrs. Jacques Heath (Lily May Peel)  female  35.0      1   \n",
       "4                           Allen, Mr. William Henry    male  35.0      0   \n",
       "\n",
       "   Parch            Ticket     Fare Cabin Embarked  \n",
       "0      0         A/5 21171   7.2500   NaN        S  \n",
       "1      0          PC 17599  71.2833   C85        C  \n",
       "2      0  STON/O2. 3101282   7.9250   NaN        S  \n",
       "3      0            113803  53.1000  C123        S  \n",
       "4      0            373450   8.0500   NaN        S  "
      ]
     },
     "execution_count": 5,
     "metadata": {},
     "output_type": "execute_result"
    }
   ],
   "source": [
    "train = pd.read_csv(\"train.csv\")\n",
    "test = pd.read_csv(\"test.csv\")\n",
    "test_passenger_ids = test[\"PassengerId\"]\n",
    "\n",
    "train.head()\n"
   ]
  },
  {
   "cell_type": "markdown",
   "id": "62ee5877-37a7-4b2d-9ce7-2ba2382b6053",
   "metadata": {},
   "source": [
    "# 3. Preprocessing & Feature Engineering\n",
    "- Handle missing values  \n",
    "- Create Family features (`FamilySize`, `IsAlone`)  \n",
    "- Extract `Title` from names  "
   ]
  },
  {
   "cell_type": "code",
   "execution_count": 8,
   "id": "0b47cb46-b765-48b3-898f-e7aadf54baf5",
   "metadata": {},
   "outputs": [],
   "source": [
    "def preprocess_data(df):\n",
    "    df[\"Age\"].fillna(df[\"Age\"].median(), inplace=True)\n",
    "    df[\"Fare\"].fillna(df[\"Fare\"].median(), inplace=True)\n",
    "    df[\"Embarked\"].fillna(df[\"Embarked\"].mode()[0], inplace=True)\n",
    "\n",
    "    df[\"FamilySize\"] = df[\"SibSp\"] + df[\"Parch\"] + 1\n",
    "    df[\"IsAlone\"] = (df[\"FamilySize\"] == 1).astype(int)\n",
    "\n",
    "    df[\"Title\"] = df[\"Name\"].str.extract(r\" ([A-Za-z]+)\\.\", expand=False)\n",
    "    df[\"Title\"] = df[\"Title\"].replace(\n",
    "        [\"Lady\", \"Countess\", \"Capt\", \"Col\", \"Don\", \"Dr\", \"Major\",\n",
    "         \"Rev\", \"Sir\", \"Jonkheer\", \"Dona\"], \"Rare\"\n",
    "    )\n",
    "    df[\"Title\"] = df[\"Title\"].replace({\"Mlle\": \"Miss\", \"Ms\": \"Miss\", \"Mme\": \"Mrs\"})\n",
    "    \n",
    "    return df\n",
    "\n",
    "train = preprocess_data(train)\n",
    "test = preprocess_data(test)\n"
   ]
  },
  {
   "cell_type": "markdown",
   "id": "4b257250-5f24-4b26-acda-c0677e4652d1",
   "metadata": {},
   "source": [
    "## 4. Encoding Categorical Features\r\n",
    "We use **LabelEncoder** to convert `Sex`, `Embarked`, and `Title` into numeric values.\r\n"
   ]
  },
  {
   "cell_type": "code",
   "execution_count": 9,
   "id": "9066e3d2-edf4-4788-b553-656692a2a438",
   "metadata": {},
   "outputs": [],
   "source": [
    "le = LabelEncoder()\n",
    "for col in [\"Sex\", \"Embarked\", \"Title\"]:\n",
    "    train[col] = le.fit_transform(train[col])\n",
    "    test[col] = le.transform(test[col])\n"
   ]
  },
  {
   "cell_type": "markdown",
   "id": "abffcd7f-5c96-4a4b-9757-cefe5d6b97bc",
   "metadata": {},
   "source": [
    "## 5. Drop Unnecessary Columns\r\n",
    "Passenger IDs and textual columns that don't add value are removed.\r\n"
   ]
  },
  {
   "cell_type": "code",
   "execution_count": 10,
   "id": "4d12732b-2e4f-4481-8b26-c9c25205ed2b",
   "metadata": {},
   "outputs": [],
   "source": [
    "drop_cols = [\"PassengerId\", \"Name\", \"Ticket\", \"Cabin\"]\n",
    "train.drop(drop_cols, axis=1, inplace=True)\n",
    "test.drop(drop_cols, axis=1, inplace=True)\n"
   ]
  },
  {
   "cell_type": "markdown",
   "id": "151e4298-c84f-41dd-a21a-ae9155b3af5c",
   "metadata": {},
   "source": [
    "## 6. Train / Validation Split\r\n",
    "We use 80% for training and 20% for validation.\r\n"
   ]
  },
  {
   "cell_type": "code",
   "execution_count": 11,
   "id": "72bd48bb-03ee-4d0a-846a-cf27f5ac6ef8",
   "metadata": {},
   "outputs": [],
   "source": [
    "X = train.drop(\"Survived\", axis=1)\n",
    "y = train[\"Survived\"]\n",
    "\n",
    "X_train, X_val, y_train, y_val = train_test_split(\n",
    "    X, y, test_size=0.2, random_state=42, stratify=y\n",
    ")\n"
   ]
  },
  {
   "cell_type": "markdown",
   "id": "bbec4d5c-5c1b-4129-9601-ba613ddc2683",
   "metadata": {},
   "source": [
    "## 7. Model Training (Ensemble)\r\n",
    "We combine Logistic Regression, Random Forest, and XGBoost using a **Voting Classifier**.\r\n"
   ]
  },
  {
   "cell_type": "code",
   "execution_count": 12,
   "id": "b1356446-c4af-4af2-9e7d-5376e4cb0724",
   "metadata": {},
   "outputs": [
    {
     "name": "stderr",
     "output_type": "stream",
     "text": [
      "C:\\Users\\jinda\\anaconda3\\Lib\\site-packages\\xgboost\\training.py:183: UserWarning: [17:48:50] WARNING: C:\\actions-runner\\_work\\xgboost\\xgboost\\src\\learner.cc:738: \n",
      "Parameters: { \"use_label_encoder\" } are not used.\n",
      "\n",
      "  bst.update(dtrain, iteration=i, fobj=obj)\n"
     ]
    },
    {
     "name": "stdout",
     "output_type": "stream",
     "text": [
      "✅ Validation Accuracy: 0.8212290502793296\n"
     ]
    }
   ],
   "source": [
    "lr = LogisticRegression(max_iter=1000, random_state=42)\n",
    "\n",
    "rf = RandomForestClassifier(\n",
    "    n_estimators=300, max_depth=6, min_samples_split=5,\n",
    "    min_samples_leaf=2, random_state=42\n",
    ")\n",
    "\n",
    "xgb = XGBClassifier(\n",
    "    n_estimators=500, learning_rate=0.01, max_depth=4,\n",
    "    use_label_encoder=False, eval_metric=\"logloss\", random_state=42\n",
    ")\n",
    "\n",
    "ensemble = VotingClassifier(\n",
    "    estimators=[(\"lr\", lr), (\"rf\", rf), (\"xgb\", xgb)],\n",
    "    voting=\"soft\"\n",
    ")\n",
    "\n",
    "ensemble.fit(X_train, y_train)\n",
    "val_pred = ensemble.predict(X_val)\n",
    "\n",
    "print(\"✅ Validation Accuracy:\", accuracy_score(y_val, val_pred))\n"
   ]
  },
  {
   "cell_type": "markdown",
   "id": "64fefaf4-cb29-4b57-b683-3879540e7a94",
   "metadata": {},
   "source": [
    "## 8. Feature Importance\r\n",
    "We visualize which features contributed most to survival using Random Forest and XGBoost.\r\n"
   ]
  },
  {
   "cell_type": "code",
   "execution_count": 13,
   "id": "9379864f-7e06-42a8-94b2-cadbdceb2af1",
   "metadata": {},
   "outputs": [
    {
     "data": {
      "image/png": "[encoded data removed]",
      "text/plain": [
       "<Figure size 800x500 with 1 Axes>"
      ]
     },
     "metadata": {},
     "output_type": "display_data"
    },
    {
     "name": "stderr",
     "output_type": "stream",
     "text": [
      "C:\\Users\\jinda\\anaconda3\\Lib\\site-packages\\xgboost\\training.py:183: UserWarning: [17:49:21] WARNING: C:\\actions-runner\\_work\\xgboost\\xgboost\\src\\learner.cc:738: \n",
      "Parameters: { \"use_label_encoder\" } are not used.\n",
      "\n",
      "  bst.update(dtrain, iteration=i, fobj=obj)\n"
     ]
    },
    {
     "data": {
      "image/png": "[encoded data removed]",
      "text/plain": [
       "<Figure size 800x500 with 1 Axes>"
      ]
     },
     "metadata": {},
     "output_type": "display_data"
    }
   ],
   "source": [
    "def plot_feature_importance(model, model_name, features):\n",
    "    importance = model.feature_importances_\n",
    "    feature_importance = pd.DataFrame({\n",
    "        \"Feature\": features,\n",
    "        \"Importance\": importance\n",
    "    }).sort_values(by=\"Importance\", ascending=False)\n",
    "\n",
    "    plt.figure(figsize=(8, 5))\n",
    "    sns.barplot(x=\"Importance\", y=\"Feature\", data=feature_importance, palette=\"viridis\")\n",
    "    plt.title(f\"{model_name} Feature Importance\")\n",
    "    plt.show()\n",
    "\n",
    "# Random Forest\n",
    "plot_feature_importance(rf.fit(X_train, y_train), \"Random Forest\", X.columns)\n",
    "\n",
    "# XGBoost\n",
    "plot_feature_importance(xgb.fit(X_train, y_train), \"XGBoost\", X.columns)\n"
   ]
  },
  {
   "cell_type": "markdown",
   "id": "3231bd9d-e3d3-4d23-9c77-17146523a7f8",
   "metadata": {},
   "source": [
    "## 9. Final Predictions\r\n",
    "We generate predictions for the test dataset and create a Kaggle submission file.\r\n"
   ]
  },
  {
   "cell_type": "code",
   "execution_count": 14,
   "id": "28408c3d-af37-474c-9d51-adb415799226",
   "metadata": {},
   "outputs": [
    {
     "data": {
      "text/html": [
       "<div>\n",
       "<style scoped>\n",
       "    .dataframe tbody tr th:only-of-type {\n",
       "        vertical-align: middle;\n",
       "    }\n",
       "\n",
       "    .dataframe tbody tr th {\n",
       "        vertical-align: top;\n",
       "    }\n",
       "\n",
       "    .dataframe thead th {\n",
       "        text-align: right;\n",
       "    }\n",
       "</style>\n",
       "<table border=\"1\" class=\"dataframe\">\n",
       "  <thead>\n",
       "    <tr style=\"text-align: right;\">\n",
       "      <th></th>\n",
       "      <th>PassengerId</th>\n",
       "      <th>Survived</th>\n",
       "    </tr>\n",
       "  </thead>\n",
       "  <tbody>\n",
       "    <tr>\n",
       "      <th>0</th>\n",
       "      <td>892</td>\n",
       "      <td>0</td>\n",
       "    </tr>\n",
       "    <tr>\n",
       "      <th>1</th>\n",
       "      <td>893</td>\n",
       "      <td>0</td>\n",
       "    </tr>\n",
       "    <tr>\n",
       "      <th>2</th>\n",
       "      <td>894</td>\n",
       "      <td>0</td>\n",
       "    </tr>\n",
       "    <tr>\n",
       "      <th>3</th>\n",
       "      <td>895</td>\n",
       "      <td>0</td>\n",
       "    </tr>\n",
       "    <tr>\n",
       "      <th>4</th>\n",
       "      <td>896</td>\n",
       "      <td>1</td>\n",
       "    </tr>\n",
       "  </tbody>\n",
       "</table>\n",
       "</div>"
      ],
      "text/plain": [
       "   PassengerId  Survived\n",
       "0          892         0\n",
       "1          893         0\n",
       "2          894         0\n",
       "3          895         0\n",
       "4          896         1"
      ]
     },
     "execution_count": 14,
     "metadata": {},
     "output_type": "execute_result"
    }
   ],
   "source": [
    "final_pred = ensemble.predict(test)\n",
    "output = pd.DataFrame({\n",
    "    \"PassengerId\": test_passenger_ids,\n",
    "    \"Survived\": final_pred\n",
    "})\n",
    "output.to_csv(\"submission.csv\", index=False)\n",
    "output.head()\n"
   ]
  },
  {
   "cell_type": "code",
   "execution_count": null,
   "id": "a9760e35-eb98-4c95-b00a-fe4646e32e67",
   "metadata": {},
   "outputs": [],
   "source": []
  }
 ],
 "metadata": {
  "kernelspec": {
   "display_name": "Python 3 (ipykernel)",
   "language": "python",
   "name": "python3"
  },
  "language_info": {
   "codemirror_mode": {
    "name": "ipython",
    "version": 3
   },
   "file_extension": ".py",
   "mimetype": "text/x-python",
   "name": "python",
   "nbconvert_exporter": "python",
   "pygments_lexer": "ipython3",
   "version": "3.11.7"
  }
 },
 "nbformat": 4,
 "nbformat_minor": 5
}
